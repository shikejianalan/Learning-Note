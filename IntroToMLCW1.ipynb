{
  "nbformat": 4,
  "nbformat_minor": 0,
  "metadata": {
    "colab": {
      "name": "IntroToMLCW1",
      "provenance": [],
      "collapsed_sections": [],
      "authorship_tag": "ABX9TyPxkQZFHlCd1/EnQ7O5vn9e",
      "include_colab_link": true
    },
    "kernelspec": {
      "name": "python3",
      "display_name": "Python 3"
    },
    "language_info": {
      "name": "python"
    }
  },
  "cells": [
    {
      "cell_type": "markdown",
      "metadata": {
        "id": "view-in-github",
        "colab_type": "text"
      },
      "source": [
        "<a href=\"https://colab.research.google.com/github/shikejianalan/Learning-Note/blob/main/IntroToMLCW1.ipynb\" target=\"_parent\"><img src=\"https://colab.research.google.com/assets/colab-badge.svg\" alt=\"Open In Colab\"/></a>"
      ]
    },
    {
      "cell_type": "code",
      "metadata": {
        "id": "C_YL_LbKTUuf"
      },
      "source": [
        "import numpy as np\n",
        "import matplotlib.pyplot as plt\n",
        "%matplotlib inline"
      ],
      "execution_count": 1,
      "outputs": []
    },
    {
      "cell_type": "markdown",
      "metadata": {
        "id": "CSsXQy8DqeLX"
      },
      "source": [
        "# Step 1: Importing data"
      ]
    },
    {
      "cell_type": "code",
      "metadata": {
        "colab": {
          "base_uri": "https://localhost:8080/"
        },
        "id": "HvaMvt77pzY5",
        "outputId": "fc206aa1-a942-46e7-e43c-3eb7f71b8af2"
      },
      "source": [
        "# importing data from files\n",
        "\n",
        "clean_data = np.loadtxt('clean_dataset.txt')\n",
        "noisy_data = np.loadtxt('noisy_dataset.txt')\n",
        "# for testing purpose\n",
        "#print(clean_data)\n",
        "#print(noisy_data)\n",
        "print(noisy_data.shape)\n",
        "#print(clean_data[:,7],clean_data[:,7].shape)\n"
      ],
      "execution_count": 32,
      "outputs": [
        {
          "output_type": "stream",
          "name": "stdout",
          "text": [
            "(2000, 8)\n",
            "(7, 2000)\n",
            "55\n",
            "[-64. -68. -63. ... -62. -62. -59.]\n"
          ]
        }
      ]
    },
    {
      "cell_type": "code",
      "metadata": {
        "colab": {
          "base_uri": "https://localhost:8080/"
        },
        "id": "4D-X7Xx07vwq",
        "outputId": "784e9401-4c56-42a9-dad8-db693fc707e5"
      },
      "source": [
        "# This cell is for test purpose\n",
        "print(clean_data.T[:-1].shape)\n",
        "x = list(set(clean_data.T[0]))\n",
        "print(len(x),x)\n",
        "print(clean_data.T[0])"
      ],
      "execution_count": 36,
      "outputs": [
        {
          "output_type": "stream",
          "name": "stdout",
          "text": [
            "(7, 2000)\n",
            "55 [-74.0, -73.0, -72.0, -71.0, -70.0, -69.0, -68.0, -67.0, -66.0, -65.0, -64.0, -63.0, -62.0, -61.0, -60.0, -59.0, -58.0, -57.0, -56.0, -55.0, -54.0, -53.0, -52.0, -51.0, -50.0, -49.0, -48.0, -47.0, -46.0, -45.0, -44.0, -43.0, -42.0, -41.0, -40.0, -39.0, -38.0, -37.0, -36.0, -35.0, -34.0, -27.0, -26.0, -21.0, -20.0, -19.0, -18.0, -17.0, -16.0, -15.0, -14.0, -13.0, -12.0, -11.0, -10.0]\n",
            "[-64. -68. -63. ... -62. -62. -59.]\n"
          ]
        }
      ]
    },
    {
      "cell_type": "markdown",
      "metadata": {
        "id": "-H7MP-u4qitC"
      },
      "source": [
        "# Step 2: Creating Decision Trees"
      ]
    },
    {
      "cell_type": "code",
      "metadata": {
        "id": "8FWfpKqsvaHx"
      },
      "source": [
        "# this part in the notebook calculates the information gain from entropy and reamainder after made the decision\n",
        "\n",
        "def gain(s_all,s_left,s_right):\n",
        "  '''\n",
        "  This function calculates the information gain\n",
        "  '''\n",
        "  entropy(s_all) - remainder(s_left,s_right) \n",
        "\n",
        "def entropy(dataset):\n",
        "  '''\n",
        "  This function calculates the entropy of the dataset\n",
        "  '''\n",
        "  if len(dataset) > 0:\n",
        "    labels = dataset[:,-1]\n",
        "    unique, count = np.unique(labels, return_counts=True)\n",
        "    # print(unique,count)\n",
        "    p = [number/len(labels) for number in count]\n",
        "    # print(p)\n",
        "\n",
        "    result = - np.dot(p,np.log2(p))\n",
        "    return result\n",
        "\n",
        "\n",
        "def remainder(s_left, s_right):\n",
        "  '''\n",
        "  This function calculate the remainder after made the decision\n",
        "  '''\n",
        "\n",
        "  result = entropy(s_left) * len(s_left)/(len(s_left)+len(s_right)) + entropy(s_right) * len(s_right)/(len(s_left)+len(s_right))\n",
        "  return result"
      ],
      "execution_count": 17,
      "outputs": []
    },
    {
      "cell_type": "code",
      "metadata": {
        "colab": {
          "base_uri": "https://localhost:8080/"
        },
        "id": "E-4u4Aokx9yM",
        "outputId": "37ec75e7-3279-42eb-90ad-bd56d06f3035"
      },
      "source": [
        "entropy(clean_data)"
      ],
      "execution_count": 18,
      "outputs": [
        {
          "output_type": "stream",
          "name": "stdout",
          "text": [
            "[1. 2. 3. 4.] [500 500 500 500]\n",
            "[0.25, 0.25, 0.25, 0.25]\n"
          ]
        },
        {
          "output_type": "execute_result",
          "data": {
            "text/plain": [
              "2.0"
            ]
          },
          "metadata": {},
          "execution_count": 18
        }
      ]
    },
    {
      "cell_type": "code",
      "metadata": {
        "id": "HDuyw_nIp-il"
      },
      "source": [
        "def decision_tree_learning(training_dataset, depth):\n",
        "  \n",
        "  pass"
      ],
      "execution_count": 3,
      "outputs": []
    },
    {
      "cell_type": "code",
      "metadata": {
        "id": "dZ1P3evex-4N"
      },
      "source": [
        "def find_split(dataset):\n",
        "  '''\n",
        "  This function finds the split that will generate the highest information gain\n",
        "\n",
        "  Input: dataset: this will be the input dataset, could be subsets that in leaf nodes\n",
        "          The dataset is in dimension(..., 8), with the last element the label\n",
        "  \n",
        "  Output: S_left, S_left: this seperates the dataset into two parts that will generate the highest information gain\n",
        "  '''\n",
        "  # each row in wifis will be a wifi emitter's attribute, [:-1] takes away the label\n",
        "  wifis = dataset.T[:-1]\n",
        "  for wifi in wifis:\n",
        "    print(wifi)\n",
        "\n",
        "    "
      ],
      "execution_count": 23,
      "outputs": []
    },
    {
      "cell_type": "code",
      "metadata": {
        "colab": {
          "base_uri": "https://localhost:8080/"
        },
        "id": "_WObTsgyw59z",
        "outputId": "fff58c5c-4b57-4c60-cac1-bd909a8fb0a9"
      },
      "source": [
        "find_split(clean_data)"
      ],
      "execution_count": 24,
      "outputs": [
        {
          "output_type": "stream",
          "name": "stdout",
          "text": [
            "[-64. -68. -63. ... -62. -62. -59.]\n",
            "[-56. -57. -60. ... -59. -58. -50.]\n",
            "[-61. -61. -60. ... -46. -52. -45.]\n",
            "[-66. -65. -67. ... -65. -61. -60.]\n",
            "[-71. -71. -76. ... -45. -41. -45.]\n",
            "[-82. -85. -85. ... -87. -90. -88.]\n",
            "[-81. -85. -84. ... -88. -85. -87.]\n"
          ]
        }
      ]
    },
    {
      "cell_type": "code",
      "metadata": {
        "id": "sUvq6YsQw8ur"
      },
      "source": [
        "def sort_lits(x):\n",
        "  "
      ],
      "execution_count": null,
      "outputs": []
    }
  ]
}