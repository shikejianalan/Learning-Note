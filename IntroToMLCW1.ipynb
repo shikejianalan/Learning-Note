{
  "nbformat": 4,
  "nbformat_minor": 0,
  "metadata": {
    "colab": {
      "name": "IntroToMLCW1",
      "provenance": [],
      "collapsed_sections": [],
      "authorship_tag": "ABX9TyP1NjolS/gmqm/8EO8z5PiL",
      "include_colab_link": true
    },
    "kernelspec": {
      "name": "python3",
      "display_name": "Python 3"
    },
    "language_info": {
      "name": "python"
    }
  },
  "cells": [
    {
      "cell_type": "markdown",
      "metadata": {
        "id": "view-in-github",
        "colab_type": "text"
      },
      "source": [
        "<a href=\"https://colab.research.google.com/github/shikejianalan/Learning-Note/blob/main/IntroToMLCW1.ipynb\" target=\"_parent\"><img src=\"https://colab.research.google.com/assets/colab-badge.svg\" alt=\"Open In Colab\"/></a>"
      ]
    },
    {
      "cell_type": "code",
      "metadata": {
        "id": "C_YL_LbKTUuf"
      },
      "source": [
        "import numpy as np\n",
        "import matplotlib.pyplot as plt\n",
        "%matplotlib inline"
      ],
      "execution_count": 1,
      "outputs": []
    },
    {
      "cell_type": "markdown",
      "metadata": {
        "id": "CSsXQy8DqeLX"
      },
      "source": [
        "# Step 1: Importing data"
      ]
    },
    {
      "cell_type": "code",
      "metadata": {
        "colab": {
          "base_uri": "https://localhost:8080/"
        },
        "id": "HvaMvt77pzY5",
        "outputId": "32f27e17-f61a-4ce5-e7fb-7bb923261221"
      },
      "source": [
        "#  importing data from files\n",
        "\n",
        "clean_data = np.loadtxt('clean_dataset.txt')\n",
        "noisy_data = np.loadtxt('noisy_dataset.txt')\n",
        "print(clean_data.shape)"
      ],
      "execution_count": 2,
      "outputs": [
        {
          "output_type": "stream",
          "name": "stdout",
          "text": [
            "(2000, 8)\n"
          ]
        }
      ]
    },
    {
      "cell_type": "code",
      "metadata": {
        "id": "4D-X7Xx07vwq"
      },
      "source": [
        ""
      ],
      "execution_count": 2,
      "outputs": []
    },
    {
      "cell_type": "markdown",
      "metadata": {
        "id": "-H7MP-u4qitC"
      },
      "source": [
        "# Step 2: Creating Decision Trees"
      ]
    },
    {
      "cell_type": "code",
      "metadata": {
        "id": "8FWfpKqsvaHx"
      },
      "source": [
        "# this part in the notebook calculates the information gain from entropy and reamainder after made the decision\n",
        "\n",
        "def gain(s_all,s_left,s_right):\n",
        "  '''\n",
        "  This function calculates the information gain\n",
        "  '''\n",
        "  return entropy(s_all) - remainder(s_left,s_right) \n",
        "  \n",
        "\n",
        "def entropy(dataset):\n",
        "  '''\n",
        "  This function calculates the entropy of the dataset\n",
        "  '''\n",
        "  if len(dataset) > 0:\n",
        "    labels = dataset[:,-1]\n",
        "    unique, count = np.unique(labels, return_counts=True)\n",
        "    # print(unique,count)\n",
        "    p = [number/len(labels) for number in count]\n",
        "    # print(p)\n",
        "\n",
        "    result = - np.dot(p,np.log2(p))\n",
        "    return result\n",
        "\n",
        "\n",
        "def remainder(s_left, s_right):\n",
        "  '''\n",
        "  This function calculate the remainder after made the decision\n",
        "  '''\n",
        "\n",
        "  result = entropy(s_left) * len(s_left)/(len(s_left)+len(s_right)) + entropy(s_right) * len(s_right)/(len(s_left)+len(s_right))\n",
        "  return result"
      ],
      "execution_count": 3,
      "outputs": []
    },
    {
      "cell_type": "code",
      "metadata": {
        "id": "E-4u4Aokx9yM"
      },
      "source": [
        ""
      ],
      "execution_count": 3,
      "outputs": []
    },
    {
      "cell_type": "code",
      "metadata": {
        "id": "HDuyw_nIp-il"
      },
      "source": [
        "def decision_tree_learning(training_dataset, depth):\n",
        "  \n",
        "  pass"
      ],
      "execution_count": 4,
      "outputs": []
    },
    {
      "cell_type": "code",
      "metadata": {
        "id": "dZ1P3evex-4N"
      },
      "source": [
        "def find_split(dataset):\n",
        "  '''\n",
        "  This function finds the split that will generate the highest information gain\n",
        "\n",
        "  Input: dataset: this will be the input dataset, could be subsets that in leaf nodes\n",
        "          The dataset is in dimension(...,8), with the last row element the label\n",
        "  \n",
        "  Output: S_left, S_left: this seperates the dataset into two parts that will generate the highest information gain\n",
        "  '''\n",
        "  # each row in wifis will be a wifi emitter's attribute, [:,-1] takes away the label\n",
        "\n",
        "  highest_gain = -1\n",
        "  best_cut = None\n",
        "  best_left = None\n",
        "  best_right = None\n",
        "\n",
        "\n",
        "  \n",
        "  #for each column in the dataset\n",
        "  for col_num in range(0,len(dataset[0])-1):\n",
        "    args = np.argsort(dataset[:,col_num])\n",
        "    sorted_data = dataset[args]\n",
        "\n",
        "  \n",
        "    for row_num in range(1,len(dataset)-1):\n",
        "    # start from the second until the second last, so that left_set and right_set will not be empty\n",
        "      left_set = sorted_data[:row_num]\n",
        "      right_set = sorted_data[row_num:]\n",
        "      IG = gain(dataset, left_set, right_set)\n",
        "      \n",
        "      if IG > highest_gain:\n",
        "        best_cut = (sorted_data[row_num,col_num],col_num)\n",
        "        best_left = left_set\n",
        "        best_right = right_set\n",
        "        highest_gain = IG\n",
        "  return best_left,best_right,highest_gain,best_cut\n",
        "\n",
        "  \n",
        "\n",
        "\n"
      ],
      "execution_count": 5,
      "outputs": []
    },
    {
      "cell_type": "code",
      "metadata": {
        "id": "_WObTsgyw59z"
      },
      "source": [
        "s_left,s_right,gain,cut = find_split(clean_data)"
      ],
      "execution_count": 6,
      "outputs": []
    },
    {
      "cell_type": "code",
      "metadata": {
        "colab": {
          "base_uri": "https://localhost:8080/"
        },
        "id": "KD4bVoPSDjZq",
        "outputId": "461c02fb-d68c-405a-947b-921b1b8f23c3"
      },
      "source": [
        "print(s_left.shape)\n",
        "print(s_right.shape)\n",
        "print(gain)\n",
        "print(cut)\n",
        "print(s_left)"
      ],
      "execution_count": 7,
      "outputs": [
        {
          "output_type": "stream",
          "name": "stdout",
          "text": [
            "(1012, 8)\n",
            "(988, 8)\n",
            "0.9380693889198293\n",
            "(-54.0, 0)\n",
            "[[-74. -62. -66. ... -89. -87.   1.]\n",
            " [-73. -62. -66. ... -87. -89.   1.]\n",
            " [-73. -61. -65. ... -89. -90.   1.]\n",
            " ...\n",
            " [-55. -51. -48. ... -82. -86.   4.]\n",
            " [-55. -52. -45. ... -87. -85.   4.]\n",
            " [-55. -49. -51. ... -84. -88.   4.]]\n"
          ]
        }
      ]
    },
    {
      "cell_type": "code",
      "metadata": {
        "id": "sUvq6YsQw8ur"
      },
      "source": [
        "def split_data(dataset,row_num):\n",
        "  '''\n",
        "  This function will sort with respect to the correspond row.\n",
        "  Input: dataset: shape(6,...) is the transpose of the original dataset\n",
        "          row_num: the rows you want to sort by\n",
        "  Output: sorted-data: dim of (8,...)\n",
        "  '''\n",
        "  args = dataset[row_num].argsort()\n",
        "  sorted_data = np.array(dataset[:,args])\n",
        "  # start from the second until the second last, so that left_set and right_set will not be empty\n",
        "  for i in range(1,len(sorted_data[row_num])-1):\n",
        "    left_set = sorted_data[:,i]\n",
        "    right_set = sorted_data[:,i:]\n",
        "\n",
        "  return "
      ],
      "execution_count": 8,
      "outputs": []
    },
    {
      "cell_type": "code",
      "metadata": {
        "id": "9nQWyFUSAZ4c"
      },
      "source": [
        "\n"
      ],
      "execution_count": 8,
      "outputs": []
    },
    {
      "cell_type": "code",
      "metadata": {
        "id": "TO_6LzuXAfNn"
      },
      "source": [
        ""
      ],
      "execution_count": 8,
      "outputs": []
    }
  ]
}